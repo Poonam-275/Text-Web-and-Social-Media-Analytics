{
  "nbformat": 4,
  "nbformat_minor": 0,
  "metadata": {
    "colab": {
      "provenance": []
    },
    "kernelspec": {
      "name": "python3",
      "display_name": "Python 3"
    },
    "language_info": {
      "name": "python"
    }
  },
  "cells": [
    {
      "cell_type": "code",
      "source": [
        "import pandas as pd\n",
        "import numpy as np\n",
        "from sklearn.feature_extraction.text import TfidfVectorizer\n",
        "from sklearn.metrics.pairwise import cosine_similarity\n",
        "from sklearn.decomposition import TruncatedSVD\n",
        "from sklearn.preprocessing import MinMaxScaler, LabelEncoder\n",
        "from sklearn.model_selection import train_test_split\n",
        "from sklearn.metrics import mean_squared_error\n",
        "import matplotlib.pyplot as plt\n",
        "import seaborn as sns\n",
        "from datetime import datetime, timedelta\n",
        "import warnings\n",
        "warnings.filterwarnings('ignore')"
      ],
      "metadata": {
        "id": "v9FZx3yNvNNX"
      },
      "execution_count": 2,
      "outputs": []
    },
    {
      "cell_type": "code",
      "source": [
        "# Set random seed for reproducibility\n",
        "np.random.seed(42)"
      ],
      "metadata": {
        "id": "EVLo02F2vQpW"
      },
      "execution_count": 3,
      "outputs": []
    },
    {
      "cell_type": "code",
      "source": [
        "# Generate synthetic social media analytics dataset\n",
        "def generate_social_media_data(num_posts=2000, num_users=500):\n",
        "    # Content types\n",
        "    content_types = ['Image', 'Video', 'Text', 'Carousel', 'Story', 'Reel', 'Live']\n",
        "\n",
        "    # Platforms\n",
        "    platforms = ['Instagram', 'Facebook', 'Twitter', 'LinkedIn', 'TikTok']\n",
        "\n",
        "    # Topics\n",
        "    topics = [\n",
        "        'Technology', 'Travel', 'Food', 'Fitness', 'Fashion',\n",
        "        'Beauty', 'Business', 'Education', 'Entertainment', 'Sports'\n",
        "    ]\n",
        "\n",
        "    # Hashtags by topic\n",
        "    topic_hashtags = {\n",
        "        'Technology': ['#Tech', '#AI', '#Innovation', '#Digital', '#Programming'],\n",
        "        'Travel': ['#Travel', '#Adventure', '#Wanderlust', '#Explore', '#Vacation'],\n",
        "        'Food': ['#Food', '#Foodie', '#Recipe', '#Cooking', '#Delicious'],\n",
        "        'Fitness': ['#Fitness', '#Workout', '#Health', '#Gym', '#Wellness'],\n",
        "        'Fashion': ['#Fashion', '#Style', '#Outfit', '#Trend', '#Design'],\n",
        "        'Beauty': ['#Beauty', '#Makeup', '#Skincare', '#Cosmetics', '#SelfCare'],\n",
        "        'Business': ['#Business', '#Entrepreneur', '#Leadership', '#Success', '#Marketing'],\n",
        "        'Education': ['#Education', '#Learning', '#Knowledge', '#Study', '#School'],\n",
        "        'Entertainment': ['#Entertainment', '#Movie', '#Music', '#Celebrity', '#Fun'],\n",
        "        'Sports': ['#Sports', '#Athlete', '#Game', '#Competition', '#Fitness']\n",
        "    }\n",
        "\n",
        "    # Generate post data\n",
        "    post_data = []\n",
        "    for post_id in range(1, num_posts + 1):\n",
        "        # Select random topic\n",
        "        topic = np.random.choice(topics)\n",
        "\n",
        "        # Generate hashtags based on topic\n",
        "        base_hashtags = topic_hashtags[topic]\n",
        "        num_hashtags = np.random.randint(3, 8)\n",
        "        hashtags = list(np.random.choice(base_hashtags, num_hashtags, replace=True))\n",
        "\n",
        "        # Add some general hashtags\n",
        "        general_hashtags = ['#SocialMedia', '#Trending', '#Viral', '#Follow', '#Like']\n",
        "        num_general = np.random.randint(1, 4)\n",
        "        hashtags.extend(np.random.choice(general_hashtags, num_general, replace=False))\n",
        "\n",
        "        # Create caption\n",
        "        captions = {\n",
        "            'Technology': f\"Exploring the latest in {topic} innovation and digital transformation.\",\n",
        "            'Travel': f\"Amazing experiences and destinations for {topic.lower()} enthusiasts.\",\n",
        "            'Food': f\"Delicious {topic.lower()} recipes and culinary inspirations.\",\n",
        "            'Fitness': f\"{topic} tips and routines for a healthier lifestyle.\",\n",
        "            'Fashion': f\"Trendsetting {topic.lower()} styles and outfit ideas.\",\n",
        "            'Beauty': f\"Beautiful {topic.lower()} tips and product recommendations.\",\n",
        "            'Business': f\"Insights and strategies for {topic.lower()} success.\",\n",
        "            'Education': f\"Learning resources and {topic.lower()} insights.\",\n",
        "            'Entertainment': f\"Latest in {topic.lower()} news and celebrity updates.\",\n",
        "            'Sports': f\"Exciting {topic.lower()} events and athlete highlights.\"\n",
        "        }\n",
        "\n",
        "        caption = captions[topic] + \" \" + \" \".join(hashtags)\n",
        "\n",
        "        # Select content type and platform\n",
        "        content_type = np.random.choice(content_types)\n",
        "        platform = np.random.choice(platforms)\n",
        "\n",
        "        # Generate post time (mostly during business hours)\n",
        "        hour = np.random.normal(14, 3)  # Peak around 2 PM\n",
        "        hour = max(9, min(20, int(hour)))  # Limit between 9 AM and 8 PM\n",
        "        minute = np.random.randint(0, 60)\n",
        "\n",
        "        # Generate engagement metrics (varies by platform, content type, and time)\n",
        "        base_engagement = {\n",
        "            'Instagram': {'Image': 500, 'Video': 800, 'Carousel': 600, 'Story': 300, 'Reel': 1200, 'Live': 1500, 'Text': 200},\n",
        "            'Facebook': {'Image': 400, 'Video': 700, 'Carousel': 500, 'Story': 250, 'Reel': 1000, 'Live': 1300, 'Text': 300},\n",
        "            'Twitter': {'Image': 300, 'Video': 500, 'Carousel': 400, 'Story': 200, 'Reel': 800, 'Live': 1000, 'Text': 400},\n",
        "            'LinkedIn': {'Image': 200, 'Video': 400, 'Carousel': 300, 'Story': 150, 'Reel': 600, 'Live': 800, 'Text': 500},\n",
        "            'TikTok': {'Image': 100, 'Video': 1200, 'Carousel': 200, 'Story': 100, 'Reel': 1500, 'Live': 1000, 'Text': 50}\n",
        "        }\n",
        "\n",
        "        # Adjust for time of day (higher engagement during peak hours)\n",
        "        time_factor = 1.0\n",
        "        if 11 <= hour <= 13:  # Lunch time\n",
        "            time_factor = 1.3\n",
        "        elif 17 <= hour <= 19:  # Evening\n",
        "            time_factor = 1.2\n",
        "        elif hour < 9 or hour > 19:  # Outside business hours\n",
        "            time_factor = 0.7\n",
        "\n",
        "        # Calculate engagement metrics\n",
        "        base_val = base_engagement[platform][content_type]\n",
        "        likes = int(np.random.normal(base_val * time_factor, base_val * 0.3))\n",
        "        shares = int(np.random.normal(base_val * 0.1 * time_factor, base_val * 0.03))\n",
        "        comments = int(np.random.normal(base_val * 0.05 * time_factor, base_val * 0.02))\n",
        "\n",
        "        # Ensure non-negative values\n",
        "        likes = max(0, likes)\n",
        "        shares = max(0, shares)\n",
        "        comments = max(0, comments)\n",
        "\n",
        "        # Calculate engagement rate\n",
        "        followers = np.random.normal(10000, 3000)  # Simulated follower count\n",
        "        engagement_rate = (likes + shares * 2 + comments * 3) / followers if followers > 0 else 0\n",
        "\n",
        "        post_data.append({\n",
        "            'post_id': post_id,\n",
        "            'user_id': np.random.randint(1, num_users + 1),\n",
        "            'platform': platform,\n",
        "            'content_type': content_type,\n",
        "            'topic': topic,\n",
        "            'caption': caption,\n",
        "            'hashtags': ' '.join(hashtags),\n",
        "            'post_hour': hour,\n",
        "            'likes': likes,\n",
        "            'shares': shares,\n",
        "            'comments': comments,\n",
        "            'engagement_rate': engagement_rate,\n",
        "            'followers': int(followers)\n",
        "        })\n",
        "\n",
        "    posts_df = pd.DataFrame(post_data)\n",
        "\n",
        "    # Generate user preferences\n",
        "    user_data = []\n",
        "    for user_id in range(1, num_users + 1):\n",
        "        # Each user has preferences for certain content types and topics\n",
        "        preferred_content = np.random.choice(content_types, size=np.random.randint(2, 5), replace=False)\n",
        "        preferred_topics = np.random.choice(topics, size=np.random.randint(3, 6), replace=False)\n",
        "\n",
        "        user_data.append({\n",
        "            'user_id': user_id,\n",
        "            'preferred_content': ', '.join(preferred_content),\n",
        "            'preferred_topics': ', '.join(preferred_topics),\n",
        "            'primary_platform': np.random.choice(platforms)\n",
        "        })\n",
        "\n",
        "    users_df = pd.DataFrame(user_data)\n",
        "\n",
        "    return posts_df, users_df"
      ],
      "metadata": {
        "id": "O1-wKjvFvVsG"
      },
      "execution_count": 4,
      "outputs": []
    },
    {
      "cell_type": "code",
      "source": [
        "# Generate the dataset\n",
        "print(\"Generating social media analytics dataset...\")\n",
        "posts_df, users_df = generate_social_media_data()\n",
        "\n",
        "print(f\"Generated {len(posts_df)} posts from {len(users_df)} users\")"
      ],
      "metadata": {
        "colab": {
          "base_uri": "https://localhost:8080/"
        },
        "id": "T_YwdHBivXfG",
        "outputId": "ae53174c-30f9-4a94-85dd-b962d0cb6520"
      },
      "execution_count": 5,
      "outputs": [
        {
          "output_type": "stream",
          "name": "stdout",
          "text": [
            "Generating social media analytics dataset...\n",
            "Generated 2000 posts from 500 users\n"
          ]
        }
      ]
    },
    {
      "cell_type": "code",
      "source": [
        "# Display sample data\n",
        "print(\"\\nSample posts:\")\n",
        "print(posts_df[['platform', 'content_type', 'topic', 'likes', 'engagement_rate']].head(3))\n",
        "print(\"\\nSample users:\")\n",
        "print(users_df.head(3))"
      ],
      "metadata": {
        "colab": {
          "base_uri": "https://localhost:8080/"
        },
        "id": "z2usmjJ4vbQf",
        "outputId": "edf337a4-cf57-4ad2-bf18-b3de7a0c28f5"
      },
      "execution_count": 6,
      "outputs": [
        {
          "output_type": "stream",
          "name": "stdout",
          "text": [
            "\n",
            "Sample posts:\n",
            "   platform content_type      topic  likes  engagement_rate\n",
            "0    TikTok         Text   Business     57         0.031685\n",
            "1  Facebook         Reel       Food    819         0.071480\n",
            "2  Facebook         Live  Education   1643         0.172063\n",
            "\n",
            "Sample users:\n",
            "   user_id  preferred_content  \\\n",
            "0        1  Live, Text, Story   \n",
            "1        2         Text, Live   \n",
            "2        3        Text, Story   \n",
            "\n",
            "                                    preferred_topics primary_platform  \n",
            "0                   Education, Sports, Entertainment         Facebook  \n",
            "1     Fitness, Technology, Beauty, Education, Travel         Facebook  \n",
            "2  Education, Fitness, Sports, Fashion, Entertain...          Twitter  \n"
          ]
        }
      ]
    },
    {
      "cell_type": "code",
      "source": [
        "# Content-Based Filtering\n",
        "print(\"\\nBuilding Content-Based Filtering Model...\")\n",
        "\n",
        "# Create TF-IDF matrix from post captions, hashtags, and topics\n",
        "tfidf = TfidfVectorizer(stop_words='english', max_features=1000)\n",
        "tfidf_matrix = tfidf.fit_transform(posts_df['caption'] + \" \" + posts_df['hashtags'] + \" \" + posts_df['topic'])\n",
        "\n",
        "# Compute cosine similarity matrix\n",
        "content_similarity = cosine_similarity(tfidf_matrix, tfidf_matrix)"
      ],
      "metadata": {
        "colab": {
          "base_uri": "https://localhost:8080/"
        },
        "id": "Ac82rxYIveO_",
        "outputId": "636b3ffb-0328-4ecf-a672-71cee3f034b8"
      },
      "execution_count": 7,
      "outputs": [
        {
          "output_type": "stream",
          "name": "stdout",
          "text": [
            "\n",
            "Building Content-Based Filtering Model...\n"
          ]
        }
      ]
    },
    {
      "cell_type": "code",
      "source": [
        "# Function to get content-based recommendations\n",
        "def content_based_recommendations(post_id, top_n=10):\n",
        "    # Get the index of the post\n",
        "    idx = posts_df[posts_df['post_id'] == post_id].index[0]\n",
        "\n",
        "    # Get similarity scores for all posts\n",
        "    sim_scores = list(enumerate(content_similarity[idx]))\n",
        "\n",
        "    # Sort posts based on similarity scores\n",
        "    sim_scores = sorted(sim_scores, key=lambda x: x[1], reverse=True)\n",
        "\n",
        "    # Get the top N most similar posts (excluding itself)\n",
        "    sim_scores = sim_scores[1:top_n+1]\n",
        "\n",
        "    # Get post indices\n",
        "    post_indices = [i[0] for i in sim_scores]\n",
        "\n",
        "    # Return the top N most similar posts\n",
        "    return posts_df.iloc[post_indices]"
      ],
      "metadata": {
        "id": "WhjoupbEvjG2"
      },
      "execution_count": 8,
      "outputs": []
    },
    {
      "cell_type": "code",
      "source": [
        "# Collaborative Filtering using Matrix Factorization\n",
        "print(\"Building Collaborative Filtering Model...\")\n",
        "\n",
        "# Create user-post engagement matrix\n",
        "user_post_engagement = posts_df.pivot_table(\n",
        "    index='user_id',\n",
        "    columns='post_id',\n",
        "    values='engagement_rate',\n",
        "    fill_value=0\n",
        ")\n",
        "\n",
        "# Normalize the data\n",
        "scaler = MinMaxScaler()\n",
        "user_post_engagement_norm = pd.DataFrame(\n",
        "    scaler.fit_transform(user_post_engagement),\n",
        "    index=user_post_engagement.index,\n",
        "    columns=user_post_engagement.columns\n",
        ")\n",
        "\n",
        "# Apply SVD for matrix factorization\n",
        "n_components = 50\n",
        "svd = TruncatedSVD(n_components=n_components, random_state=42)\n",
        "user_features = svd.fit_transform(user_post_engagement_norm)\n",
        "post_features = svd.components_.T\n",
        "\n",
        "# Reconstruct the matrix\n",
        "predicted_engagement = np.dot(user_features, post_features.T)\n",
        "\n",
        "# Convert back to DataFrame\n",
        "predicted_engagement_df = pd.DataFrame(\n",
        "    predicted_engagement,\n",
        "    index=user_post_engagement.index,\n",
        "    columns=user_post_engagement.columns\n",
        ")"
      ],
      "metadata": {
        "colab": {
          "base_uri": "https://localhost:8080/"
        },
        "id": "QFVWBh7RvmlW",
        "outputId": "7e04fed0-ee92-4b8a-a070-8cbb453c5c58"
      },
      "execution_count": 9,
      "outputs": [
        {
          "output_type": "stream",
          "name": "stdout",
          "text": [
            "Building Collaborative Filtering Model...\n"
          ]
        }
      ]
    },
    {
      "cell_type": "code",
      "source": [
        "# Function to get collaborative filtering recommendations\n",
        "def collaborative_recommendations(user_id, top_n=10):\n",
        "    # Get predicted engagement for the user\n",
        "    user_predictions = predicted_engagement_df.loc[user_id]\n",
        "\n",
        "    # Get posts already engaged with by the user\n",
        "    user_posts = posts_df[posts_df['user_id'] == user_id]['post_id'].values\n",
        "\n",
        "    # Filter out already engaged posts\n",
        "    recommendations = user_predictions[~user_predictions.index.isin(user_posts)]\n",
        "\n",
        "    # Sort by predicted engagement\n",
        "    recommendations = recommendations.sort_values(ascending=False)\n",
        "\n",
        "    # Get top N recommendations\n",
        "    top_recommendations = recommendations.head(top_n)\n",
        "\n",
        "    # Return post details\n",
        "    return posts_df[posts_df['post_id'].isin(top_recommendations.index)]"
      ],
      "metadata": {
        "id": "1hd8qnWRvpIe"
      },
      "execution_count": 10,
      "outputs": []
    },
    {
      "cell_type": "code",
      "source": [
        "# Hybrid Recommendation System\n",
        "print(\"Building Hybrid Recommendation System...\")\n",
        "\n",
        "def hybrid_recommendations(user_id, post_id=None, top_n=10, content_weight=0.4, collab_weight=0.6):\n",
        "    # If no post_id provided, use the highest engaged post by the user\n",
        "    if post_id is None:\n",
        "        user_posts = posts_df[posts_df['user_id'] == user_id]\n",
        "        if len(user_posts) > 0:\n",
        "            post_id = user_posts.sort_values('engagement_rate', ascending=False).iloc[0]['post_id']\n",
        "        else:\n",
        "            # If user has no posts, use most engaged post overall\n",
        "            post_id = posts_df.sort_values('engagement_rate', ascending=False).iloc[0]['post_id']\n",
        "\n",
        "    # Get content-based recommendations\n",
        "    content_recs = content_based_recommendations(post_id, top_n*3)\n",
        "    content_recs['content_score'] = range(len(content_recs), 0, -1)  # Higher score for better recommendations\n",
        "\n",
        "    # Get collaborative filtering recommendations\n",
        "    collab_recs = collaborative_recommendations(user_id, top_n*3)\n",
        "    collab_recs = collab_recs.merge(\n",
        "        predicted_engagement_df.loc[user_id].reset_index(),\n",
        "        left_on='post_id', right_on='post_id'\n",
        "    )\n",
        "    collab_recs.rename(columns={user_id: 'collab_score'}, inplace=True)\n",
        "\n",
        "    # Merge the two recommendation sets\n",
        "    hybrid_recs = pd.merge(\n",
        "        content_recs[['post_id', 'content_score']],\n",
        "        collab_recs[['post_id', 'collab_score']],\n",
        "        on='post_id',\n",
        "        how='outer'\n",
        "    ).fillna(0)\n",
        "\n",
        "    # Normalize scores\n",
        "    scaler = MinMaxScaler()\n",
        "    hybrid_recs['content_score_norm'] = scaler.fit_transform(hybrid_recs[['content_score']])\n",
        "    hybrid_recs['collab_score_norm'] = scaler.fit_transform(hybrid_recs[['collab_score']])\n",
        "\n",
        "    # Calculate hybrid score\n",
        "    hybrid_recs['hybrid_score'] = (content_weight * hybrid_recs['content_score_norm'] +\n",
        "                                  collab_weight * hybrid_recs['collab_score_norm'])\n",
        "\n",
        "    # Sort by hybrid score\n",
        "    hybrid_recs = hybrid_recs.sort_values('hybrid_score', ascending=False)\n",
        "\n",
        "    # Get top N recommendations\n",
        "    top_hybrid = hybrid_recs.head(top_n)\n",
        "\n",
        "    # Merge with post details\n",
        "    result = top_hybrid.merge(posts_df, on='post_id')\n",
        "\n",
        "    return result[['post_id', 'platform', 'content_type', 'topic', 'engagement_rate', 'hybrid_score']]"
      ],
      "metadata": {
        "colab": {
          "base_uri": "https://localhost:8080/"
        },
        "id": "SMjKHqWXvudG",
        "outputId": "e1bca3a2-3649-47e1-e086-008ed751153e"
      },
      "execution_count": 11,
      "outputs": [
        {
          "output_type": "stream",
          "name": "stdout",
          "text": [
            "Building Hybrid Recommendation System...\n"
          ]
        }
      ]
    },
    {
      "cell_type": "code",
      "source": [
        "# Strategy Recommendation Function\n",
        "def recommend_strategy(user_id):\n",
        "    # Get user's historical performance\n",
        "    user_posts = posts_df[posts_df['user_id'] == user_id]\n",
        "\n",
        "    if len(user_posts) == 0:\n",
        "        # If no posts, return general recommendations\n",
        "        return {\n",
        "            'best_platform': 'Instagram',\n",
        "            'best_content_type': 'Reel',\n",
        "            'best_topic': 'Entertainment',\n",
        "            'best_time': '2 PM',\n",
        "            'reasoning': 'General recommendations based on overall platform performance'\n",
        "        }\n",
        "\n",
        "    # Find best performing platform\n",
        "    platform_performance = user_posts.groupby('platform')['engagement_rate'].mean()\n",
        "    best_platform = platform_performance.idxmax()\n",
        "\n",
        "    # Find best performing content type\n",
        "    content_performance = user_posts.groupby('content_type')['engagement_rate'].mean()\n",
        "    best_content_type = content_performance.idxmax()\n",
        "\n",
        "    # Find best performing topic\n",
        "    topic_performance = user_posts.groupby('topic')['engagement_rate'].mean()\n",
        "    best_topic = topic_performance.idxmax()\n",
        "\n",
        "    # Find best posting time\n",
        "    time_performance = user_posts.groupby('post_hour')['engagement_rate'].mean()\n",
        "    best_time = f\"{int(time_performance.idxmax())}:00\"\n",
        "\n",
        "    return {\n",
        "        'best_platform': best_platform,\n",
        "        'best_content_type': best_content_type,\n",
        "        'best_topic': best_topic,\n",
        "        'best_time': best_time,\n",
        "        'reasoning': 'Based on your historical performance data'\n",
        "    }"
      ],
      "metadata": {
        "id": "0G_Zmi0xvxZf"
      },
      "execution_count": 12,
      "outputs": []
    },
    {
      "cell_type": "code",
      "source": [
        "# Evaluation\n",
        "print(\"Evaluating the recommendation system...\")\n",
        "\n",
        "# Split posts into train and test sets\n",
        "train_posts, test_posts = train_test_split(posts_df, test_size=0.2, random_state=42)\n",
        "\n",
        "# Create train user-post engagement matrix\n",
        "train_engagement = train_posts.pivot_table(\n",
        "    index='user_id',\n",
        "    columns='post_id',\n",
        "    values='engagement_rate',\n",
        "    fill_value=0\n",
        ")\n",
        "\n",
        "# Normalize the train data\n",
        "train_engagement_norm = pd.DataFrame(\n",
        "    scaler.fit_transform(train_engagement),\n",
        "    index=train_engagement.index,\n",
        "    columns=train_engagement.columns\n",
        ")\n",
        "\n",
        "# Apply SVD on train data\n",
        "svd_train = TruncatedSVD(n_components=n_components, random_state=42)\n",
        "user_features_train = svd_train.fit_transform(train_engagement_norm)\n",
        "post_features_train = svd_train.components_.T\n",
        "\n",
        "# Reconstruct the matrix\n",
        "predicted_engagement_train = np.dot(user_features_train, post_features_train.T)\n",
        "\n",
        "# Calculate RMSE for collaborative filtering\n",
        "test_engagement = test_posts.pivot_table(\n",
        "    index='user_id',\n",
        "    columns='post_id',\n",
        "    values='engagement_rate',\n",
        "    fill_value=0\n",
        ")\n",
        "\n",
        "# Align test matrix with train matrix\n",
        "test_engagement_aligned = test_engagement.reindex(\n",
        "    index=train_engagement.index,\n",
        "    columns=train_engagement.columns,\n",
        "    fill_value=0\n",
        ")\n",
        "\n",
        "# Calculate RMSE\n",
        "y_true = []\n",
        "y_pred = []\n",
        "for _, row in test_posts.iterrows():\n",
        "    user_id = row['user_id']\n",
        "    post_id = row['post_id']\n",
        "\n",
        "    if user_id in train_engagement.index and post_id in train_engagement.columns:\n",
        "        y_true.append(row['engagement_rate'])\n",
        "        y_pred.append(predicted_engagement_train[\n",
        "            train_engagement.index.get_loc(user_id),\n",
        "            train_engagement.columns.get_loc(post_id)\n",
        "        ])\n",
        "\n",
        "rmse = np.sqrt(mean_squared_error(y_true, y_pred)) if y_true else 0\n",
        "print(f\"Collaborative Filtering RMSE: {rmse:.4f}\")"
      ],
      "metadata": {
        "colab": {
          "base_uri": "https://localhost:8080/"
        },
        "id": "lXVAQKZRv1QG",
        "outputId": "2b09ae51-071e-4db6-dde0-a469acbf78b5"
      },
      "execution_count": 13,
      "outputs": [
        {
          "output_type": "stream",
          "name": "stdout",
          "text": [
            "Evaluating the recommendation system...\n",
            "Collaborative Filtering RMSE: 0.0000\n"
          ]
        }
      ]
    },
    {
      "cell_type": "code",
      "execution_count": 14,
      "metadata": {
        "colab": {
          "base_uri": "https://localhost:8080/",
          "height": 1000
        },
        "id": "HbyYTpaqup2S",
        "outputId": "3cafe4bc-5640-4a7d-c78a-9caeb0fe7cb3"
      },
      "outputs": [
        {
          "output_type": "stream",
          "name": "stdout",
          "text": [
            "Precision@5: 0.0000, Recall@5: 0.0000\n",
            "Precision@10: 0.0000, Recall@10: 0.0000\n",
            "Precision@15: 0.0000, Recall@15: 0.0000\n",
            "\n",
            "Sample Recommendations for User 1:\n",
            "    platform content_type     topic  engagement_rate  hybrid_score\n",
            "0  Instagram        Video    Sports         0.108689      0.946667\n",
            "1   Facebook        Video    Sports         0.079491      0.873358\n",
            "2  Instagram         Text   Fashion         0.030665      0.600000\n",
            "3    Twitter        Image   Fashion         0.043306      0.600000\n",
            "4    Twitter         Live  Business         0.837779      0.600000\n",
            "5   Facebook         Reel  Business         0.114050      0.600000\n",
            "6    Twitter         Text   Fashion         0.065821      0.600000\n",
            "7    Twitter     Carousel  Business         0.134681      0.600000\n",
            "8     TikTok     Carousel      Food         0.041224      0.585793\n",
            "9  Instagram         Reel   Fitness         0.284728      0.585793\n",
            "\n",
            "Strategy Recommendations for User 1:\n",
            "best_platform: Facebook\n",
            "best_content_type: Video\n",
            "best_topic: Sports\n",
            "best_time: 13:00\n",
            "reasoning: Based on your historical performance data\n"
          ]
        },
        {
          "output_type": "display_data",
          "data": {
            "text/plain": [
              "<Figure size 1500x1000 with 4 Axes>"
            ],
            "image/png": "[encoded data removed]"
          },
          "metadata": {}
        },
        {
          "output_type": "stream",
          "name": "stdout",
          "text": [
            "\n",
            "Social media analytics recommendation system implementation completed!\n",
            "Metrics visualization saved as 'social_media_recommendation_metrics.png'\n"
          ]
        }
      ],
      "source": [
        "# Evaluate precision and recall for hybrid recommendations\n",
        "def evaluate_hybrid(top_k=10):\n",
        "    # For a sample of users\n",
        "    sample_users = posts_df['user_id'].unique()[:50]  # Use first 50 users for evaluation\n",
        "\n",
        "    precisions = []\n",
        "    recalls = []\n",
        "\n",
        "    for user_id in sample_users:\n",
        "        # Get user's highly engaged posts (engagement_rate >= 0.05)\n",
        "        user_high_engagement = posts_df[(posts_df['user_id'] == user_id) & (posts_df['engagement_rate'] >= 0.05)]\n",
        "        relevant_items = set(user_high_engagement['post_id'].values)\n",
        "\n",
        "        if len(relevant_items) == 0:\n",
        "            continue\n",
        "\n",
        "        # Get hybrid recommendations\n",
        "        hybrid_recs = hybrid_recommendations(user_id, top_n=top_k)\n",
        "        recommended_items = set(hybrid_recs['post_id'].values)\n",
        "\n",
        "        # Calculate precision and recall\n",
        "        if len(recommended_items) > 0:\n",
        "            true_positives = len(relevant_items.intersection(recommended_items))\n",
        "            precision = true_positives / len(recommended_items)\n",
        "            recall = true_positives / len(relevant_items)\n",
        "\n",
        "            precisions.append(precision)\n",
        "            recalls.append(recall)\n",
        "\n",
        "    avg_precision = np.mean(precisions) if precisions else 0\n",
        "    avg_recall = np.mean(recalls) if recalls else 0\n",
        "\n",
        "    return avg_precision, avg_recall\n",
        "\n",
        "# Evaluate for different values of K\n",
        "k_values = [5, 10, 15]\n",
        "results = {}\n",
        "\n",
        "for k in k_values:\n",
        "    precision, recall = evaluate_hybrid(top_k=k)\n",
        "    results[k] = {'Precision': precision, 'Recall': recall}\n",
        "    print(f\"Precision@{k}: {precision:.4f}, Recall@{k}: {recall:.4f}\")\n",
        "\n",
        "# Generate sample recommendations\n",
        "print(\"\\nSample Recommendations for User 1:\")\n",
        "user_id = 1\n",
        "sample_recommendations = hybrid_recommendations(user_id, top_n=10)\n",
        "print(sample_recommendations[['platform', 'content_type', 'topic', 'engagement_rate', 'hybrid_score']])\n",
        "\n",
        "# Generate strategy recommendations\n",
        "print(\"\\nStrategy Recommendations for User 1:\")\n",
        "strategy = recommend_strategy(user_id)\n",
        "for key, value in strategy.items():\n",
        "    print(f\"{key}: {value}\")\n",
        "\n",
        "# Visualization\n",
        "plt.figure(figsize=(15, 10))\n",
        "\n",
        "# Plot Precision@K and Recall@K\n",
        "plt.subplot(2, 2, 1)\n",
        "precisions = [results[k]['Precision'] for k in k_values]\n",
        "recalls = [results[k]['Recall'] for k in k_values]\n",
        "plt.plot(k_values, precisions, marker='o', label='Precision@K')\n",
        "plt.plot(k_values, recalls, marker='o', label='Recall@K')\n",
        "plt.xlabel('K')\n",
        "plt.ylabel('Score')\n",
        "plt.title('Precision and Recall at K')\n",
        "plt.legend()\n",
        "plt.grid(True)\n",
        "\n",
        "# Plot RMSE\n",
        "plt.subplot(2, 2, 2)\n",
        "plt.bar(['CF Model'], [rmse], color='skyblue')\n",
        "plt.ylabel('RMSE')\n",
        "plt.title('Collaborative Filtering RMSE')\n",
        "plt.ylim(0, max(rmse * 1.5, 0.1))\n",
        "\n",
        "# Plot platform performance\n",
        "plt.subplot(2, 2, 3)\n",
        "platform_perf = posts_df.groupby('platform')['engagement_rate'].mean()\n",
        "platform_perf.plot(kind='bar', color='lightgreen')\n",
        "plt.title('Average Engagement Rate by Platform')\n",
        "plt.ylabel('Engagement Rate')\n",
        "plt.xticks(rotation=45)\n",
        "\n",
        "# Plot content type performance\n",
        "plt.subplot(2, 2, 4)\n",
        "content_perf = posts_df.groupby('content_type')['engagement_rate'].mean()\n",
        "content_perf.plot(kind='bar', color='lightcoral')\n",
        "plt.title('Average Engagement Rate by Content Type')\n",
        "plt.ylabel('Engagement Rate')\n",
        "plt.xticks(rotation=45)\n",
        "\n",
        "plt.tight_layout()\n",
        "plt.savefig('social_media_recommendation_metrics.png')\n",
        "plt.show()\n",
        "\n",
        "print(\"\\nSocial media analytics recommendation system implementation completed!\")\n",
        "print(\"Metrics visualization saved as 'social_media_recommendation_metrics.png'\")"
      ]
    }
  ]
}